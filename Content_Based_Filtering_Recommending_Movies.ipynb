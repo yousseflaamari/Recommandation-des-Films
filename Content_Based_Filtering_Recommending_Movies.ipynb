{
  "cells": [
    {
      "cell_type": "markdown",
      "metadata": {
        "id": "fZffDqwrx66i"
      },
      "source": [
        "# Imports"
      ]
    },
    {
      "cell_type": "code",
      "execution_count": null,
      "metadata": {
        "_cell_guid": "b1076dfc-b9ad-4769-8c92-a6c4dae69d19",
        "_uuid": "8f2839f25d086af736a60e9eeb907d3b93b6e0e5",
        "execution": {
          "iopub.execute_input": "2023-04-10T17:17:16.79047Z",
          "iopub.status.busy": "2023-04-10T17:17:16.789933Z",
          "iopub.status.idle": "2023-04-10T17:17:16.798134Z",
          "shell.execute_reply": "2023-04-10T17:17:16.796236Z",
          "shell.execute_reply.started": "2023-04-10T17:17:16.790426Z"
        },
        "id": "cbnaXuxBx66i"
      },
      "outputs": [],
      "source": [
        "import numpy as np\n",
        "import pandas as pd\n",
        "import matplotlib.pyplot as plt\n",
        "import seaborn as sns\n",
        "import os\n",
        "\n",
        "import sklearn\n",
        "from sklearn.feature_extraction.text import TfidfVectorizer\n",
        "from sklearn.metrics.pairwise import cosine_similarity\n",
        "from sklearn.neighbors import NearestNeighbors\n",
        "from sklearn.preprocessing import MultiLabelBinarizer\n",
        "from scipy.sparse import hstack, csr_matrix\n",
        "import math"
      ]
    },
    {
      "cell_type": "markdown",
      "metadata": {
        "id": "5BIOJ-8_x66j"
      },
      "source": [
        "# Load the data"
      ]
    },
    {
      "cell_type": "code",
      "execution_count": null,
      "metadata": {
        "execution": {
          "iopub.execute_input": "2023-04-10T17:17:16.843425Z",
          "iopub.status.busy": "2023-04-10T17:17:16.842909Z",
          "iopub.status.idle": "2023-04-10T17:17:35.893967Z",
          "shell.execute_reply": "2023-04-10T17:17:35.892891Z",
          "shell.execute_reply.started": "2023-04-10T17:17:16.843376Z"
        },
        "id": "kYBGbTjXx66k"
      },
      "outputs": [],
      "source": [
        "movies = pd.read_csv('movie.csv')\n",
        "ratings = pd.read_csv('rating.csv')"
      ]
    },
    {
      "cell_type": "markdown",
      "metadata": {
        "id": "h_AB8NqYx66k"
      },
      "source": [
        "## Explore the data"
      ]
    },
    {
      "cell_type": "code",
      "execution_count": null,
      "metadata": {
        "execution": {
          "iopub.execute_input": "2023-04-10T17:17:35.897107Z",
          "iopub.status.busy": "2023-04-10T17:17:35.896463Z",
          "iopub.status.idle": "2023-04-10T17:17:35.90438Z",
          "shell.execute_reply": "2023-04-10T17:17:35.902809Z",
          "shell.execute_reply.started": "2023-04-10T17:17:35.897065Z"
        },
        "id": "BUEUBIBCx66l",
        "outputId": "cfc3dcee-3b4c-4666-8308-19e73191063d"
      },
      "outputs": [
        {
          "name": "stdout",
          "output_type": "stream",
          "text": [
            "Movies :  Index(['movieId', 'title', 'genres'], dtype='object')\n",
            "\n",
            "Ratings :  Index(['userId', 'movieId', 'rating', 'timestamp'], dtype='object')\n",
            "\n"
          ]
        }
      ],
      "source": [
        "# List of the features within the dataset\n",
        "print(\"Movies : \", movies.columns,end=\"\\n\\n\")\n",
        "print(\"Ratings : \", ratings.columns,end=\"\\n\\n\")"
      ]
    },
    {
      "cell_type": "code",
      "execution_count": null,
      "metadata": {
        "execution": {
          "iopub.execute_input": "2023-04-10T17:17:35.9066Z",
          "iopub.status.busy": "2023-04-10T17:17:35.906174Z",
          "iopub.status.idle": "2023-04-10T17:17:35.933245Z",
          "shell.execute_reply": "2023-04-10T17:17:35.932386Z",
          "shell.execute_reply.started": "2023-04-10T17:17:35.906562Z"
        },
        "id": "ZNDWmQZ9x66m",
        "outputId": "31594d8d-daa3-4d92-c4f4-507e9be43f71"
      },
      "outputs": [
        {
          "name": "stdout",
          "output_type": "stream",
          "text": [
            "(27278, 3)\n",
            "<class 'pandas.core.frame.DataFrame'>\n",
            "RangeIndex: 27278 entries, 0 to 27277\n",
            "Data columns (total 3 columns):\n",
            " #   Column   Non-Null Count  Dtype \n",
            "---  ------   --------------  ----- \n",
            " 0   movieId  27278 non-null  int64 \n",
            " 1   title    27278 non-null  object\n",
            " 2   genres   27278 non-null  object\n",
            "dtypes: int64(1), object(2)\n",
            "memory usage: 639.5+ KB\n",
            "None\n"
          ]
        }
      ],
      "source": [
        "# Check the number of rows and columns in the movies data\n",
        "print(movies.shape)\n",
        "\n",
        "# Check the data types of each column in the movies data\n",
        "print(movies.info())"
      ]
    },
    {
      "cell_type": "code",
      "execution_count": null,
      "metadata": {
        "execution": {
          "iopub.execute_input": "2023-04-10T17:17:35.935517Z",
          "iopub.status.busy": "2023-04-10T17:17:35.934863Z",
          "iopub.status.idle": "2023-04-10T17:17:35.951095Z",
          "shell.execute_reply": "2023-04-10T17:17:35.949869Z",
          "shell.execute_reply.started": "2023-04-10T17:17:35.93548Z"
        },
        "id": "2R1zFStkx66m",
        "outputId": "fcfb721a-f5d3-4057-ea6a-19c195ebde6d"
      },
      "outputs": [
        {
          "data": {
            "text/plain": [
              "movieId    0\n",
              "title      0\n",
              "genres     0\n",
              "dtype: int64"
            ]
          },
          "execution_count": 7,
          "metadata": {},
          "output_type": "execute_result"
        }
      ],
      "source": [
        "# Check for null values\n",
        "movies.isnull().sum()"
      ]
    },
    {
      "cell_type": "code",
      "execution_count": null,
      "metadata": {
        "execution": {
          "iopub.execute_input": "2023-04-10T17:17:35.952844Z",
          "iopub.status.busy": "2023-04-10T17:17:35.952294Z",
          "iopub.status.idle": "2023-04-10T17:18:07.000737Z",
          "shell.execute_reply": "2023-04-10T17:18:06.999614Z",
          "shell.execute_reply.started": "2023-04-10T17:17:35.952796Z"
        },
        "id": "tE-0Sab_x66m",
        "outputId": "7ef1ed76-4279-4bb8-e589-e629a7feb7f6"
      },
      "outputs": [
        {
          "name": "stdout",
          "output_type": "stream",
          "text": [
            "Shape: (27278, 3)\n",
            "<class 'pandas.core.frame.DataFrame'>\n",
            "RangeIndex: 27278 entries, 0 to 27277\n",
            "Data columns (total 3 columns):\n",
            " #   Column   Non-Null Count  Dtype \n",
            "---  ------   --------------  ----- \n",
            " 0   movieId  27278 non-null  int64 \n",
            " 1   title    27278 non-null  object\n",
            " 2   genres   27278 non-null  object\n",
            "dtypes: int64(1), object(2)\n",
            "memory usage: 639.5+ KB\n",
            "Info: None\n",
            "Describe:               movieId\n",
            "count   27278.000000\n",
            "mean    59855.480570\n",
            "std     44429.314697\n",
            "min         1.000000\n",
            "25%      6931.250000\n",
            "50%     68068.000000\n",
            "75%    100293.250000\n",
            "max    131262.000000\n",
            "Null values: movieId    0\n",
            "title      0\n",
            "genres     0\n",
            "dtype: int64\n",
            "Duplicated values: 0\n",
            "First few rows:    movieId                               title  \\\n",
            "0        1                    Toy Story (1995)   \n",
            "1        2                      Jumanji (1995)   \n",
            "2        3             Grumpier Old Men (1995)   \n",
            "3        4            Waiting to Exhale (1995)   \n",
            "4        5  Father of the Bride Part II (1995)   \n",
            "\n",
            "                                        genres  \n",
            "0  Adventure|Animation|Children|Comedy|Fantasy  \n",
            "1                   Adventure|Children|Fantasy  \n",
            "2                               Comedy|Romance  \n",
            "3                         Comedy|Drama|Romance  \n",
            "4                                       Comedy  \n",
            "++++++++++++++++++++++++++++++++++++++++++++++++++++++++++++++++++\n",
            "Shape: (20000263, 4)\n",
            "<class 'pandas.core.frame.DataFrame'>\n",
            "RangeIndex: 20000263 entries, 0 to 20000262\n",
            "Data columns (total 4 columns):\n",
            " #   Column     Dtype  \n",
            "---  ------     -----  \n",
            " 0   userId     int64  \n",
            " 1   movieId    int64  \n",
            " 2   rating     float64\n",
            " 3   timestamp  object \n",
            "dtypes: float64(1), int64(2), object(1)\n",
            "memory usage: 610.4+ MB\n",
            "Info: None\n",
            "Describe:               userId       movieId        rating\n",
            "count  2.000026e+07  2.000026e+07  2.000026e+07\n",
            "mean   6.904587e+04  9.041567e+03  3.525529e+00\n",
            "std    4.003863e+04  1.978948e+04  1.051989e+00\n",
            "min    1.000000e+00  1.000000e+00  5.000000e-01\n",
            "25%    3.439500e+04  9.020000e+02  3.000000e+00\n",
            "50%    6.914100e+04  2.167000e+03  3.500000e+00\n",
            "75%    1.036370e+05  4.770000e+03  4.000000e+00\n",
            "max    1.384930e+05  1.312620e+05  5.000000e+00\n",
            "Null values: userId       0\n",
            "movieId      0\n",
            "rating       0\n",
            "timestamp    0\n",
            "dtype: int64\n",
            "Duplicated values: 0\n",
            "First few rows:    userId  movieId  rating            timestamp\n",
            "0       1        2     3.5  2005-04-02 23:53:47\n",
            "1       1       29     3.5  2005-04-02 23:31:16\n",
            "2       1       32     3.5  2005-04-02 23:33:39\n",
            "3       1       47     3.5  2005-04-02 23:32:07\n",
            "4       1       50     3.5  2005-04-02 23:29:40\n",
            "++++++++++++++++++++++++++++++++++++++++++++++++++++++++++++++++++\n"
          ]
        }
      ],
      "source": [
        "for df in [movies, ratings]:\n",
        "\n",
        "    # Check the number of rows and columns in the ratings data\n",
        "    print('Shape:', df.shape)\n",
        "\n",
        "    # Check the data types of each column in the ratings data\n",
        "    print('Info:', df.info())\n",
        "\n",
        "    # Check the summary statistics of the ratings data\n",
        "    print('Describe: ', df.describe())\n",
        "\n",
        "    # Check for null values\n",
        "    print('Null values:', df.isnull().sum())\n",
        "\n",
        "    # Check for duplicated values\n",
        "    print('Duplicated values:',df.duplicated().sum())\n",
        "\n",
        "    # Display the first few rows of the data\n",
        "    print('First few rows:', df.head())\n",
        "    print(\"++++++++++++++++++++++++++++++++++++++++++++++++++++++++++++++++++\")"
      ]
    },
    {
      "cell_type": "markdown",
      "metadata": {
        "id": "LL3EWtqBx66n"
      },
      "source": [
        "**Summary**\n",
        "* Features:\n",
        "    * Numerical features: userId, movieId, rating\n",
        "    * Categorical features: title, genres\n",
        "    * Alphanumerical Features: timestamp\n",
        "\n",
        "* Both datasets don't have missing or duplicated values\n",
        "* There are a total of 27278 movie in our dataset with 20000263 user ratings."
      ]
    },
    {
      "cell_type": "code",
      "execution_count": null,
      "metadata": {
        "execution": {
          "iopub.execute_input": "2023-04-10T17:18:07.004864Z",
          "iopub.status.busy": "2023-04-10T17:18:07.004484Z",
          "iopub.status.idle": "2023-04-10T17:18:18.346519Z",
          "shell.execute_reply": "2023-04-10T17:18:18.345206Z",
          "shell.execute_reply.started": "2023-04-10T17:18:07.004827Z"
        },
        "id": "qodhPhh3x66n",
        "outputId": "c4d0aae9-2a35-43e7-98d0-32042fca42ad"
      },
      "outputs": [
        {
          "ename": "MemoryError",
          "evalue": "Unable to allocate 153. MiB for an array with shape (1, 20000263) and data type float64",
          "output_type": "error",
          "traceback": [
            "\u001b[1;31m---------------------------------------------------------------------------\u001b[0m",
            "\u001b[1;31mMemoryError\u001b[0m                               Traceback (most recent call last)",
            "Cell \u001b[1;32mIn[9], line 2\u001b[0m\n\u001b[0;32m      1\u001b[0m \u001b[38;5;66;03m# movieId: Unique Id provided for each movie.\u001b[39;00m\n\u001b[1;32m----> 2\u001b[0m \u001b[38;5;28mprint\u001b[39m(pd\u001b[38;5;241m.\u001b[39mmerge(movies, ratings, on\u001b[38;5;241m=\u001b[39m\u001b[38;5;124m'\u001b[39m\u001b[38;5;124mmovieId\u001b[39m\u001b[38;5;124m'\u001b[39m, how\u001b[38;5;241m=\u001b[39m\u001b[38;5;124m'\u001b[39m\u001b[38;5;124minner\u001b[39m\u001b[38;5;124m'\u001b[39m)[\u001b[38;5;124m'\u001b[39m\u001b[38;5;124mmovieId\u001b[39m\u001b[38;5;124m'\u001b[39m]\u001b[38;5;241m.\u001b[39mnunique(),\u001b[38;5;124m'\u001b[39m\u001b[38;5;124mmovie out of\u001b[39m\u001b[38;5;124m'\u001b[39m,movies[\u001b[38;5;124m'\u001b[39m\u001b[38;5;124mmovieId\u001b[39m\u001b[38;5;124m'\u001b[39m]\u001b[38;5;241m.\u001b[39mnunique(), \u001b[38;5;124m'\u001b[39m\u001b[38;5;124mhas at least one rating\u001b[39m\u001b[38;5;124m'\u001b[39m)\n",
            "File \u001b[1;32mD:\\python\\Lib\\site-packages\\pandas\\core\\reshape\\merge.py:162\u001b[0m, in \u001b[0;36mmerge\u001b[1;34m(left, right, how, on, left_on, right_on, left_index, right_index, sort, suffixes, copy, indicator, validate)\u001b[0m\n\u001b[0;32m    131\u001b[0m \u001b[38;5;129m@Substitution\u001b[39m(\u001b[38;5;124m\"\u001b[39m\u001b[38;5;130;01m\\n\u001b[39;00m\u001b[38;5;124mleft : DataFrame or named Series\u001b[39m\u001b[38;5;124m\"\u001b[39m)\n\u001b[0;32m    132\u001b[0m \u001b[38;5;129m@Appender\u001b[39m(_merge_doc, indents\u001b[38;5;241m=\u001b[39m\u001b[38;5;241m0\u001b[39m)\n\u001b[0;32m    133\u001b[0m \u001b[38;5;28;01mdef\u001b[39;00m \u001b[38;5;21mmerge\u001b[39m(\n\u001b[1;32m   (...)\u001b[0m\n\u001b[0;32m    146\u001b[0m     validate: \u001b[38;5;28mstr\u001b[39m \u001b[38;5;241m|\u001b[39m \u001b[38;5;28;01mNone\u001b[39;00m \u001b[38;5;241m=\u001b[39m \u001b[38;5;28;01mNone\u001b[39;00m,\n\u001b[0;32m    147\u001b[0m ) \u001b[38;5;241m-\u001b[39m\u001b[38;5;241m>\u001b[39m DataFrame:\n\u001b[0;32m    148\u001b[0m     op \u001b[38;5;241m=\u001b[39m _MergeOperation(\n\u001b[0;32m    149\u001b[0m         left,\n\u001b[0;32m    150\u001b[0m         right,\n\u001b[1;32m   (...)\u001b[0m\n\u001b[0;32m    160\u001b[0m         validate\u001b[38;5;241m=\u001b[39mvalidate,\n\u001b[0;32m    161\u001b[0m     )\n\u001b[1;32m--> 162\u001b[0m     \u001b[38;5;28;01mreturn\u001b[39;00m op\u001b[38;5;241m.\u001b[39mget_result(copy\u001b[38;5;241m=\u001b[39mcopy)\n",
            "File \u001b[1;32mD:\\python\\Lib\\site-packages\\pandas\\core\\reshape\\merge.py:811\u001b[0m, in \u001b[0;36m_MergeOperation.get_result\u001b[1;34m(self, copy)\u001b[0m\n\u001b[0;32m    807\u001b[0m     \u001b[38;5;28mself\u001b[39m\u001b[38;5;241m.\u001b[39mleft, \u001b[38;5;28mself\u001b[39m\u001b[38;5;241m.\u001b[39mright \u001b[38;5;241m=\u001b[39m \u001b[38;5;28mself\u001b[39m\u001b[38;5;241m.\u001b[39m_indicator_pre_merge(\u001b[38;5;28mself\u001b[39m\u001b[38;5;241m.\u001b[39mleft, \u001b[38;5;28mself\u001b[39m\u001b[38;5;241m.\u001b[39mright)\n\u001b[0;32m    809\u001b[0m join_index, left_indexer, right_indexer \u001b[38;5;241m=\u001b[39m \u001b[38;5;28mself\u001b[39m\u001b[38;5;241m.\u001b[39m_get_join_info()\n\u001b[1;32m--> 811\u001b[0m result \u001b[38;5;241m=\u001b[39m \u001b[38;5;28mself\u001b[39m\u001b[38;5;241m.\u001b[39m_reindex_and_concat(\n\u001b[0;32m    812\u001b[0m     join_index, left_indexer, right_indexer, copy\u001b[38;5;241m=\u001b[39mcopy\n\u001b[0;32m    813\u001b[0m )\n\u001b[0;32m    814\u001b[0m result \u001b[38;5;241m=\u001b[39m result\u001b[38;5;241m.\u001b[39m__finalize__(\u001b[38;5;28mself\u001b[39m, method\u001b[38;5;241m=\u001b[39m\u001b[38;5;28mself\u001b[39m\u001b[38;5;241m.\u001b[39m_merge_type)\n\u001b[0;32m    816\u001b[0m \u001b[38;5;28;01mif\u001b[39;00m \u001b[38;5;28mself\u001b[39m\u001b[38;5;241m.\u001b[39mindicator:\n",
            "File \u001b[1;32mD:\\python\\Lib\\site-packages\\pandas\\core\\reshape\\merge.py:802\u001b[0m, in \u001b[0;36m_MergeOperation._reindex_and_concat\u001b[1;34m(self, join_index, left_indexer, right_indexer, copy)\u001b[0m\n\u001b[0;32m    800\u001b[0m left\u001b[38;5;241m.\u001b[39mcolumns \u001b[38;5;241m=\u001b[39m llabels\n\u001b[0;32m    801\u001b[0m right\u001b[38;5;241m.\u001b[39mcolumns \u001b[38;5;241m=\u001b[39m rlabels\n\u001b[1;32m--> 802\u001b[0m result \u001b[38;5;241m=\u001b[39m concat([left, right], axis\u001b[38;5;241m=\u001b[39m\u001b[38;5;241m1\u001b[39m, copy\u001b[38;5;241m=\u001b[39mcopy)\n\u001b[0;32m    803\u001b[0m \u001b[38;5;28;01mreturn\u001b[39;00m result\n",
            "File \u001b[1;32mD:\\python\\Lib\\site-packages\\pandas\\core\\reshape\\concat.py:385\u001b[0m, in \u001b[0;36mconcat\u001b[1;34m(objs, axis, join, ignore_index, keys, levels, names, verify_integrity, sort, copy)\u001b[0m\n\u001b[0;32m    370\u001b[0m     copy \u001b[38;5;241m=\u001b[39m \u001b[38;5;28;01mFalse\u001b[39;00m\n\u001b[0;32m    372\u001b[0m op \u001b[38;5;241m=\u001b[39m _Concatenator(\n\u001b[0;32m    373\u001b[0m     objs,\n\u001b[0;32m    374\u001b[0m     axis\u001b[38;5;241m=\u001b[39maxis,\n\u001b[1;32m   (...)\u001b[0m\n\u001b[0;32m    382\u001b[0m     sort\u001b[38;5;241m=\u001b[39msort,\n\u001b[0;32m    383\u001b[0m )\n\u001b[1;32m--> 385\u001b[0m \u001b[38;5;28;01mreturn\u001b[39;00m op\u001b[38;5;241m.\u001b[39mget_result()\n",
            "File \u001b[1;32mD:\\python\\Lib\\site-packages\\pandas\\core\\reshape\\concat.py:616\u001b[0m, in \u001b[0;36m_Concatenator.get_result\u001b[1;34m(self)\u001b[0m\n\u001b[0;32m    612\u001b[0m             indexers[ax] \u001b[38;5;241m=\u001b[39m obj_labels\u001b[38;5;241m.\u001b[39mget_indexer(new_labels)\n\u001b[0;32m    614\u001b[0m     mgrs_indexers\u001b[38;5;241m.\u001b[39mappend((obj\u001b[38;5;241m.\u001b[39m_mgr, indexers))\n\u001b[1;32m--> 616\u001b[0m new_data \u001b[38;5;241m=\u001b[39m concatenate_managers(\n\u001b[0;32m    617\u001b[0m     mgrs_indexers, \u001b[38;5;28mself\u001b[39m\u001b[38;5;241m.\u001b[39mnew_axes, concat_axis\u001b[38;5;241m=\u001b[39m\u001b[38;5;28mself\u001b[39m\u001b[38;5;241m.\u001b[39mbm_axis, copy\u001b[38;5;241m=\u001b[39m\u001b[38;5;28mself\u001b[39m\u001b[38;5;241m.\u001b[39mcopy\n\u001b[0;32m    618\u001b[0m )\n\u001b[0;32m    619\u001b[0m \u001b[38;5;28;01mif\u001b[39;00m \u001b[38;5;129;01mnot\u001b[39;00m \u001b[38;5;28mself\u001b[39m\u001b[38;5;241m.\u001b[39mcopy \u001b[38;5;129;01mand\u001b[39;00m \u001b[38;5;129;01mnot\u001b[39;00m using_copy_on_write():\n\u001b[0;32m    620\u001b[0m     new_data\u001b[38;5;241m.\u001b[39m_consolidate_inplace()\n",
            "File \u001b[1;32mD:\\python\\Lib\\site-packages\\pandas\\core\\internals\\concat.py:204\u001b[0m, in \u001b[0;36mconcatenate_managers\u001b[1;34m(mgrs_indexers, axes, concat_axis, copy)\u001b[0m\n\u001b[0;32m    197\u001b[0m \u001b[38;5;66;03m# Assertions disabled for performance\u001b[39;00m\n\u001b[0;32m    198\u001b[0m \u001b[38;5;66;03m# for tup in mgrs_indexers:\u001b[39;00m\n\u001b[0;32m    199\u001b[0m \u001b[38;5;66;03m#    # caller is responsible for ensuring this\u001b[39;00m\n\u001b[0;32m    200\u001b[0m \u001b[38;5;66;03m#    indexers = tup[1]\u001b[39;00m\n\u001b[0;32m    201\u001b[0m \u001b[38;5;66;03m#    assert concat_axis not in indexers\u001b[39;00m\n\u001b[0;32m    203\u001b[0m \u001b[38;5;28;01mif\u001b[39;00m concat_axis \u001b[38;5;241m==\u001b[39m \u001b[38;5;241m0\u001b[39m:\n\u001b[1;32m--> 204\u001b[0m     \u001b[38;5;28;01mreturn\u001b[39;00m _concat_managers_axis0(mgrs_indexers, axes, copy)\n\u001b[0;32m    206\u001b[0m mgrs_indexers \u001b[38;5;241m=\u001b[39m _maybe_reindex_columns_na_proxy(axes, mgrs_indexers)\n\u001b[0;32m    208\u001b[0m concat_plans \u001b[38;5;241m=\u001b[39m [\n\u001b[0;32m    209\u001b[0m     _get_mgr_concatenation_plan(mgr, indexers) \u001b[38;5;28;01mfor\u001b[39;00m mgr, indexers \u001b[38;5;129;01min\u001b[39;00m mgrs_indexers\n\u001b[0;32m    210\u001b[0m ]\n",
            "File \u001b[1;32mD:\\python\\Lib\\site-packages\\pandas\\core\\internals\\concat.py:279\u001b[0m, in \u001b[0;36m_concat_managers_axis0\u001b[1;34m(mgrs_indexers, axes, copy)\u001b[0m\n\u001b[0;32m    277\u001b[0m     nb \u001b[38;5;241m=\u001b[39m blk\u001b[38;5;241m.\u001b[39mcopy(deep\u001b[38;5;241m=\u001b[39m\u001b[38;5;28;01mFalse\u001b[39;00m)\n\u001b[0;32m    278\u001b[0m \u001b[38;5;28;01melif\u001b[39;00m copy:\n\u001b[1;32m--> 279\u001b[0m     nb \u001b[38;5;241m=\u001b[39m blk\u001b[38;5;241m.\u001b[39mcopy()\n\u001b[0;32m    280\u001b[0m \u001b[38;5;28;01melse\u001b[39;00m:\n\u001b[0;32m    281\u001b[0m     \u001b[38;5;66;03m# by slicing instead of copy(deep=False), we get a new array\u001b[39;00m\n\u001b[0;32m    282\u001b[0m     \u001b[38;5;66;03m#  object, see test_concat_copy\u001b[39;00m\n\u001b[0;32m    283\u001b[0m     nb \u001b[38;5;241m=\u001b[39m blk\u001b[38;5;241m.\u001b[39mgetitem_block(\u001b[38;5;28mslice\u001b[39m(\u001b[38;5;28;01mNone\u001b[39;00m))\n",
            "File \u001b[1;32mD:\\python\\Lib\\site-packages\\pandas\\core\\internals\\blocks.py:540\u001b[0m, in \u001b[0;36mBlock.copy\u001b[1;34m(self, deep)\u001b[0m\n\u001b[0;32m    538\u001b[0m refs: BlockValuesRefs \u001b[38;5;241m|\u001b[39m \u001b[38;5;28;01mNone\u001b[39;00m\n\u001b[0;32m    539\u001b[0m \u001b[38;5;28;01mif\u001b[39;00m deep:\n\u001b[1;32m--> 540\u001b[0m     values \u001b[38;5;241m=\u001b[39m values\u001b[38;5;241m.\u001b[39mcopy()\n\u001b[0;32m    541\u001b[0m     refs \u001b[38;5;241m=\u001b[39m \u001b[38;5;28;01mNone\u001b[39;00m\n\u001b[0;32m    542\u001b[0m \u001b[38;5;28;01melse\u001b[39;00m:\n",
            "\u001b[1;31mMemoryError\u001b[0m: Unable to allocate 153. MiB for an array with shape (1, 20000263) and data type float64"
          ]
        }
      ],
      "source": [
        "# movieId: Unique Id provided for each movie.\n",
        "print(pd.merge(movies, ratings, on='movieId', how='inner')['movieId'].nunique(),'movie out of',movies['movieId'].nunique(), 'has at least one rating')"
      ]
    },
    {
      "cell_type": "code",
      "execution_count": null,
      "metadata": {
        "execution": {
          "iopub.execute_input": "2023-04-10T17:18:18.353455Z",
          "iopub.status.busy": "2023-04-10T17:18:18.352349Z",
          "iopub.status.idle": "2023-04-10T17:18:18.419854Z",
          "shell.execute_reply": "2023-04-10T17:18:18.418625Z",
          "shell.execute_reply.started": "2023-04-10T17:18:18.353399Z"
        },
        "id": "_56O7juVx66o"
      },
      "outputs": [],
      "source": [
        "# rating: Range from (0.5 - 5.0) with 0.5 increments\n",
        "print('Mean rating of a movie:',ratings['rating'].mean())"
      ]
    },
    {
      "cell_type": "code",
      "execution_count": null,
      "metadata": {
        "execution": {
          "iopub.execute_input": "2023-04-10T17:18:18.421787Z",
          "iopub.status.busy": "2023-04-10T17:18:18.421269Z",
          "iopub.status.idle": "2023-04-10T17:18:18.919713Z",
          "shell.execute_reply": "2023-04-10T17:18:18.918482Z",
          "shell.execute_reply.started": "2023-04-10T17:18:18.421747Z"
        },
        "id": "Kh2_v6qjx66o"
      },
      "outputs": [],
      "source": [
        "# userId: Unique Id provided for each user.\n",
        "print('Number of users:', ratings['userId'].nunique())\n",
        "print('Mean number of ratings for each user:', ratings.groupby(by='userId').size().mean())"
      ]
    },
    {
      "cell_type": "code",
      "execution_count": null,
      "metadata": {
        "execution": {
          "iopub.execute_input": "2023-04-10T17:18:18.921465Z",
          "iopub.status.busy": "2023-04-10T17:18:18.921005Z",
          "iopub.status.idle": "2023-04-10T17:18:19.281401Z",
          "shell.execute_reply": "2023-04-10T17:18:19.2801Z",
          "shell.execute_reply.started": "2023-04-10T17:18:18.921429Z"
        },
        "id": "CN1moWNPx66o"
      },
      "outputs": [],
      "source": [
        "print('Number of ratings made by each user:\\n', ratings.groupby(by='userId').size())"
      ]
    },
    {
      "cell_type": "code",
      "execution_count": null,
      "metadata": {
        "execution": {
          "iopub.execute_input": "2023-04-10T17:18:19.283496Z",
          "iopub.status.busy": "2023-04-10T17:18:19.282977Z",
          "iopub.status.idle": "2023-04-10T17:18:19.608494Z",
          "shell.execute_reply": "2023-04-10T17:18:19.607161Z",
          "shell.execute_reply.started": "2023-04-10T17:18:19.283458Z"
        },
        "id": "7qfv0bi5x66o"
      },
      "outputs": [],
      "source": [
        "print('Count of most given ratings in desc order:\\n')\n",
        "ratings['rating'].value_counts()"
      ]
    },
    {
      "cell_type": "markdown",
      "metadata": {
        "id": "3-BIErMdx66o"
      },
      "source": [
        "## Preprocess the data"
      ]
    },
    {
      "cell_type": "code",
      "execution_count": null,
      "metadata": {
        "execution": {
          "iopub.execute_input": "2023-04-10T17:18:19.610241Z",
          "iopub.status.busy": "2023-04-10T17:18:19.60988Z",
          "iopub.status.idle": "2023-04-10T17:18:19.663911Z",
          "shell.execute_reply": "2023-04-10T17:18:19.662986Z",
          "shell.execute_reply.started": "2023-04-10T17:18:19.610209Z"
        },
        "id": "XVzBh2Tax66q"
      },
      "outputs": [],
      "source": [
        "# Extract the release year from the movie titles\n",
        "movies['year'] = movies['title'].str.extract(r'\\((\\d{4})\\)')"
      ]
    },
    {
      "cell_type": "code",
      "execution_count": null,
      "metadata": {
        "execution": {
          "iopub.execute_input": "2023-04-10T17:18:19.666537Z",
          "iopub.status.busy": "2023-04-10T17:18:19.665358Z",
          "iopub.status.idle": "2023-04-10T17:18:19.679004Z",
          "shell.execute_reply": "2023-04-10T17:18:19.677913Z",
          "shell.execute_reply.started": "2023-04-10T17:18:19.666483Z"
        },
        "id": "FRXjTcP5x66q"
      },
      "outputs": [],
      "source": [
        "movies['year'].unique()"
      ]
    },
    {
      "cell_type": "code",
      "execution_count": null,
      "metadata": {
        "execution": {
          "iopub.execute_input": "2023-04-10T17:18:19.681659Z",
          "iopub.status.busy": "2023-04-10T17:18:19.680489Z",
          "iopub.status.idle": "2023-04-10T17:18:19.699744Z",
          "shell.execute_reply": "2023-04-10T17:18:19.698256Z",
          "shell.execute_reply.started": "2023-04-10T17:18:19.681619Z"
        },
        "id": "iWqldSCFx66q"
      },
      "outputs": [],
      "source": [
        "movies.isnull().sum()"
      ]
    },
    {
      "cell_type": "code",
      "execution_count": null,
      "metadata": {
        "execution": {
          "iopub.execute_input": "2023-04-10T17:18:19.702523Z",
          "iopub.status.busy": "2023-04-10T17:18:19.701791Z",
          "iopub.status.idle": "2023-04-10T17:18:19.722636Z",
          "shell.execute_reply": "2023-04-10T17:18:19.721246Z",
          "shell.execute_reply.started": "2023-04-10T17:18:19.702472Z"
        },
        "id": "YWchSYU6x66r"
      },
      "outputs": [],
      "source": [
        "movies.loc[movies['year'].isnull()]"
      ]
    },
    {
      "cell_type": "code",
      "execution_count": null,
      "metadata": {
        "execution": {
          "iopub.execute_input": "2023-04-10T17:18:19.725423Z",
          "iopub.status.busy": "2023-04-10T17:18:19.72485Z",
          "iopub.status.idle": "2023-04-10T17:18:19.738782Z",
          "shell.execute_reply": "2023-04-10T17:18:19.737649Z",
          "shell.execute_reply.started": "2023-04-10T17:18:19.725366Z"
        },
        "id": "TtSZ1HN4x66r"
      },
      "outputs": [],
      "source": [
        "# Remove any movies without a valid year of release\n",
        "movies.dropna(subset=['year'], inplace=True)"
      ]
    },
    {
      "cell_type": "code",
      "execution_count": null,
      "metadata": {
        "execution": {
          "iopub.execute_input": "2023-04-10T17:18:19.741227Z",
          "iopub.status.busy": "2023-04-10T17:18:19.740431Z",
          "iopub.status.idle": "2023-04-10T17:18:19.755064Z",
          "shell.execute_reply": "2023-04-10T17:18:19.753765Z",
          "shell.execute_reply.started": "2023-04-10T17:18:19.741121Z"
        },
        "id": "uJS2VRkMx66r"
      },
      "outputs": [],
      "source": [
        "movies['year'].astype(int)"
      ]
    },
    {
      "cell_type": "code",
      "execution_count": null,
      "metadata": {
        "execution": {
          "iopub.execute_input": "2023-04-10T17:18:19.757833Z",
          "iopub.status.busy": "2023-04-10T17:18:19.757354Z",
          "iopub.status.idle": "2023-04-10T17:18:19.775202Z",
          "shell.execute_reply": "2023-04-10T17:18:19.77386Z",
          "shell.execute_reply.started": "2023-04-10T17:18:19.757783Z"
        },
        "id": "G-woTjfsx66r"
      },
      "outputs": [],
      "source": [
        "movies.isnull().sum()"
      ]
    },
    {
      "cell_type": "code",
      "execution_count": null,
      "metadata": {
        "execution": {
          "iopub.execute_input": "2023-04-10T17:18:19.777942Z",
          "iopub.status.busy": "2023-04-10T17:18:19.777449Z",
          "iopub.status.idle": "2023-04-10T17:18:19.787184Z",
          "shell.execute_reply": "2023-04-10T17:18:19.785669Z",
          "shell.execute_reply.started": "2023-04-10T17:18:19.777889Z"
        },
        "id": "PdhIFY2Px66r"
      },
      "outputs": [],
      "source": [
        "movies.shape"
      ]
    },
    {
      "cell_type": "code",
      "execution_count": null,
      "metadata": {
        "execution": {
          "iopub.execute_input": "2023-04-10T17:18:19.788986Z",
          "iopub.status.busy": "2023-04-10T17:18:19.78866Z",
          "iopub.status.idle": "2023-04-10T17:18:19.802336Z",
          "shell.execute_reply": "2023-04-10T17:18:19.800974Z",
          "shell.execute_reply.started": "2023-04-10T17:18:19.788956Z"
        },
        "id": "nXrI15bFx66r"
      },
      "outputs": [],
      "source": [
        "movies.head()"
      ]
    },
    {
      "cell_type": "code",
      "execution_count": null,
      "metadata": {
        "execution": {
          "iopub.execute_input": "2023-04-10T17:18:19.804799Z",
          "iopub.status.busy": "2023-04-10T17:18:19.804414Z",
          "iopub.status.idle": "2023-04-10T17:18:19.982391Z",
          "shell.execute_reply": "2023-04-10T17:18:19.981104Z",
          "shell.execute_reply.started": "2023-04-10T17:18:19.804763Z"
        },
        "id": "7AiwsryRx66r"
      },
      "outputs": [],
      "source": [
        "# Extract genres\n",
        "\n",
        "# Split the \"genres\" column into multiple columns using get_dummies()\n",
        "genres_df = movies['genres'].str.get_dummies('|')\n",
        "print('These are the available genres:\\n',genres_df.columns.values)"
      ]
    },
    {
      "cell_type": "code",
      "execution_count": null,
      "metadata": {
        "execution": {
          "iopub.execute_input": "2023-04-10T17:18:19.985037Z",
          "iopub.status.busy": "2023-04-10T17:18:19.984284Z",
          "iopub.status.idle": "2023-04-10T17:18:20.005192Z",
          "shell.execute_reply": "2023-04-10T17:18:20.004343Z",
          "shell.execute_reply.started": "2023-04-10T17:18:19.984996Z"
        },
        "id": "hWHWIR-Cx66r"
      },
      "outputs": [],
      "source": [
        "genres_df"
      ]
    },
    {
      "cell_type": "markdown",
      "metadata": {
        "id": "DLFOHYybx66s"
      },
      "source": [
        "## Visualize the data"
      ]
    },
    {
      "cell_type": "markdown",
      "metadata": {
        "id": "Cil2WI03x66u"
      },
      "source": [
        "# How to compute the recommendations for one user\n",
        "\n",
        "**1. First, we choose the movies features that we are going to use to compute similarity between different movies.**\n",
        "\n",
        "* Genres: each genre is a feature\n",
        "    \n",
        "* Release year\n",
        "    \n",
        "* Both together\n",
        "    \n",
        "* We can extract other features (by adding infos from imdb; other features like actors, directors, and plot keywords can also be useful, or using tags)\n",
        "    \n",
        "**2. Then, we fix the similarity metric that measures how similar two movies are, based on their feature vectors.**\n",
        "\n",
        "   * For genres as features: Cosine similarity metric\n",
        "    \n",
        "   * For release year as feature: Euclidian distance, Exponential Decay Similarity Metric.\n",
        "    \n",
        "   The choice of similarity metric depends on the features being used. For example, cosine similarity works well for genre features because they are binary (a movie either has a particular genre or it doesn't), while Euclidean distance may work better for continuous features like release year.\n",
        "    \n",
        "**3. Next, for each movie that the user has rated, we need to find the top K most similar movies based on the computed similarities. We are going to use the KNeighborsClassifier.**\n",
        "\n",
        "The choice of k (the number of nearest neighbors to consider) can also affect the recommendations. A larger k may result in more diverse recommendations, while a smaller k may result in more similar recommendations.\n",
        "\n",
        "**4. We combine the recommendations from all of the movies that the user has rated to create a list of recommended movies for the user.**\n",
        "\n",
        "The method for combining recommendations from different movies can also affect the recommendations. One common approach is to simply aggregate the recommendations and sort them by some relevance metric.\n",
        "\n",
        "**5. Sort the recommended movies by some relevance metric: similarity score weighted by user ratings.**\n",
        "For example, user rated high movie1 and rated low movie2, then it is only logical that he gets recommended to more movies similar to movie1.\n"
      ]
    },
    {
      "cell_type": "markdown",
      "metadata": {
        "id": "rdBPSU40x66v"
      },
      "source": [
        "# Data preparation\n"
      ]
    },
    {
      "cell_type": "code",
      "execution_count": null,
      "metadata": {
        "execution": {
          "iopub.execute_input": "2023-04-10T17:18:23.639694Z",
          "iopub.status.busy": "2023-04-10T17:18:23.638763Z",
          "iopub.status.idle": "2023-04-10T17:18:23.652575Z",
          "shell.execute_reply": "2023-04-10T17:18:23.651206Z",
          "shell.execute_reply.started": "2023-04-10T17:18:23.639641Z"
        },
        "id": "NDR8mJoKx66v"
      },
      "outputs": [],
      "source": [
        "movies.head()"
      ]
    },
    {
      "cell_type": "code",
      "execution_count": null,
      "metadata": {
        "execution": {
          "iopub.execute_input": "2023-04-10T17:18:23.654546Z",
          "iopub.status.busy": "2023-04-10T17:18:23.65414Z",
          "iopub.status.idle": "2023-04-10T17:18:24.221913Z",
          "shell.execute_reply": "2023-04-10T17:18:24.220777Z",
          "shell.execute_reply.started": "2023-04-10T17:18:23.65451Z"
        },
        "id": "2Bal53GDx66v"
      },
      "outputs": [],
      "source": [
        "ratings.drop(['timestamp'], axis=1, inplace= True)"
      ]
    },
    {
      "cell_type": "code",
      "execution_count": null,
      "metadata": {
        "execution": {
          "iopub.execute_input": "2023-04-10T17:18:24.223941Z",
          "iopub.status.busy": "2023-04-10T17:18:24.223299Z",
          "iopub.status.idle": "2023-04-10T17:18:24.230122Z",
          "shell.execute_reply": "2023-04-10T17:18:24.228731Z",
          "shell.execute_reply.started": "2023-04-10T17:18:24.223905Z"
        },
        "id": "JyrTiKG8x66v"
      },
      "outputs": [],
      "source": [
        "# Drop unused attributes\n",
        "movies_features = movies.drop(['title', 'genres'], axis=1, inplace=False)"
      ]
    },
    {
      "cell_type": "code",
      "execution_count": null,
      "metadata": {
        "execution": {
          "iopub.execute_input": "2023-04-10T17:18:24.231805Z",
          "iopub.status.busy": "2023-04-10T17:18:24.23146Z",
          "iopub.status.idle": "2023-04-10T17:18:24.248168Z",
          "shell.execute_reply": "2023-04-10T17:18:24.246791Z",
          "shell.execute_reply.started": "2023-04-10T17:18:24.231771Z"
        },
        "id": "q5WaHy0-x66v"
      },
      "outputs": [],
      "source": [
        "# Merge with genres\n",
        "movies_features = pd.merge(movies_features, genres_df, left_index=True, right_index=True)"
      ]
    },
    {
      "cell_type": "code",
      "execution_count": null,
      "metadata": {
        "execution": {
          "iopub.execute_input": "2023-04-10T17:18:24.250286Z",
          "iopub.status.busy": "2023-04-10T17:18:24.249933Z",
          "iopub.status.idle": "2023-04-10T17:18:24.270949Z",
          "shell.execute_reply": "2023-04-10T17:18:24.269924Z",
          "shell.execute_reply.started": "2023-04-10T17:18:24.250251Z"
        },
        "id": "tL9jRvkjx66w"
      },
      "outputs": [],
      "source": [
        "movies_features.tail()"
      ]
    },
    {
      "cell_type": "markdown",
      "metadata": {
        "id": "CBSCpqcnx66w"
      },
      "source": [
        "# Content based filtering, with Features = Genres"
      ]
    },
    {
      "cell_type": "code",
      "execution_count": null,
      "metadata": {
        "execution": {
          "iopub.execute_input": "2023-04-10T17:18:24.272876Z",
          "iopub.status.busy": "2023-04-10T17:18:24.272267Z",
          "iopub.status.idle": "2023-04-10T17:18:24.296993Z",
          "shell.execute_reply": "2023-04-10T17:18:24.295386Z",
          "shell.execute_reply.started": "2023-04-10T17:18:24.27283Z"
        },
        "id": "_s9TRmtCx66w"
      },
      "outputs": [],
      "source": [
        "movies_features.iloc[:, 2:]"
      ]
    },
    {
      "cell_type": "code",
      "execution_count": null,
      "metadata": {
        "execution": {
          "iopub.execute_input": "2023-04-10T17:18:24.298656Z",
          "iopub.status.busy": "2023-04-10T17:18:24.298307Z",
          "iopub.status.idle": "2023-04-10T17:18:24.313241Z",
          "shell.execute_reply": "2023-04-10T17:18:24.312388Z",
          "shell.execute_reply.started": "2023-04-10T17:18:24.298623Z"
        },
        "id": "CjfkdPPUx66w"
      },
      "outputs": [],
      "source": [
        "model = NearestNeighbors(n_neighbors=10, metric='cosine')\n",
        "model.fit(movies_features.iloc[:, 2:])"
      ]
    },
    {
      "cell_type": "code",
      "execution_count": null,
      "metadata": {
        "execution": {
          "iopub.execute_input": "2023-04-10T17:18:24.315185Z",
          "iopub.status.busy": "2023-04-10T17:18:24.314827Z",
          "iopub.status.idle": "2023-04-10T17:18:24.324756Z",
          "shell.execute_reply": "2023-04-10T17:18:24.323249Z",
          "shell.execute_reply.started": "2023-04-10T17:18:24.31515Z"
        },
        "id": "L_3gaUoPx66w"
      },
      "outputs": [],
      "source": [
        "# Define a function to recommend movies based on a given movie\n",
        "def recommend_movies(movie_idx, features, model):\n",
        "    # Find the n nearest neighbors based on the cosine similarity\n",
        "    distances, indices = model.kneighbors(features)\n",
        "\n",
        "    # Get the attributes of the nearest neighbor movies\n",
        "    recommended_movies = pd.DataFrame([movies.iloc[idx] for idx in indices.flatten()])\n",
        "    recommended_movies['distance'] = distances.flatten()\n",
        "\n",
        "    # Print the recommended movies\n",
        "#     print(movies.loc[movie_idx])\n",
        "#     print(\"Movies similar to\", find_title_by_idx(movie_idx), \":\\n\")\n",
        "#     print(recommended_movies)\n",
        "    # Return the recommended movies\n",
        "    return recommended_movies"
      ]
    },
    {
      "cell_type": "code",
      "execution_count": null,
      "metadata": {
        "execution": {
          "iopub.execute_input": "2023-04-10T17:18:24.32904Z",
          "iopub.status.busy": "2023-04-10T17:18:24.328593Z",
          "iopub.status.idle": "2023-04-10T17:18:24.338037Z",
          "shell.execute_reply": "2023-04-10T17:18:24.336444Z",
          "shell.execute_reply.started": "2023-04-10T17:18:24.329Z"
        },
        "id": "bqUv7dsWx66x"
      },
      "outputs": [],
      "source": [
        "def find_idx_by_title(title):\n",
        "    idx = movies[movies['title'] == title].index\n",
        "    return idx[0]"
      ]
    },
    {
      "cell_type": "code",
      "execution_count": null,
      "metadata": {
        "execution": {
          "iopub.execute_input": "2023-04-10T17:18:24.339954Z",
          "iopub.status.busy": "2023-04-10T17:18:24.33961Z",
          "iopub.status.idle": "2023-04-10T17:18:24.351675Z",
          "shell.execute_reply": "2023-04-10T17:18:24.350362Z",
          "shell.execute_reply.started": "2023-04-10T17:18:24.339922Z"
        },
        "id": "DXcU5_h5x66x"
      },
      "outputs": [],
      "source": [
        "def find_title_by_idx(idx):\n",
        "    title = movies.loc[idx]['title']\n",
        "    return title"
      ]
    },
    {
      "cell_type": "code",
      "execution_count": null,
      "metadata": {
        "execution": {
          "iopub.execute_input": "2023-04-10T17:18:24.353901Z",
          "iopub.status.busy": "2023-04-10T17:18:24.353553Z",
          "iopub.status.idle": "2023-04-10T17:18:24.405203Z",
          "shell.execute_reply": "2023-04-10T17:18:24.403507Z",
          "shell.execute_reply.started": "2023-04-10T17:18:24.353868Z"
        },
        "id": "dWDeuwFyx66x"
      },
      "outputs": [],
      "source": [
        "# Test recs on \"Toy Story (1995)\" :\n",
        "index = find_idx_by_title(\"Toy Story (1995)\")\n",
        "\n",
        "recommend_movies(index, pd.DataFrame(movies_features.iloc[index, 2:]).transpose(), model)"
      ]
    },
    {
      "cell_type": "markdown",
      "metadata": {
        "id": "YPopWdttx66x"
      },
      "source": [
        "As you can see, all the recommended movies have similar genres as the movie \"Toy Story (1995)\"\n"
      ]
    },
    {
      "cell_type": "markdown",
      "metadata": {
        "id": "IAHb6o_6x66x"
      },
      "source": [
        "# Content based filtering, with Features = Release year"
      ]
    },
    {
      "cell_type": "code",
      "execution_count": null,
      "metadata": {
        "execution": {
          "iopub.execute_input": "2023-04-10T17:18:24.408845Z",
          "iopub.status.busy": "2023-04-10T17:18:24.407749Z",
          "iopub.status.idle": "2023-04-10T17:18:24.454793Z",
          "shell.execute_reply": "2023-04-10T17:18:24.453127Z",
          "shell.execute_reply.started": "2023-04-10T17:18:24.408773Z"
        },
        "id": "1OenWqkpx66y"
      },
      "outputs": [],
      "source": [
        "model_1 = NearestNeighbors(n_neighbors=10, metric='euclidean')\n",
        "model_1.fit(pd.DataFrame(movies_features.iloc[:, 1]))"
      ]
    },
    {
      "cell_type": "code",
      "execution_count": null,
      "metadata": {
        "execution": {
          "iopub.execute_input": "2023-04-10T17:18:24.45829Z",
          "iopub.status.busy": "2023-04-10T17:18:24.457229Z",
          "iopub.status.idle": "2023-04-10T17:18:24.480876Z",
          "shell.execute_reply": "2023-04-10T17:18:24.479139Z",
          "shell.execute_reply.started": "2023-04-10T17:18:24.458218Z"
        },
        "id": "etlS9wjYx66y"
      },
      "outputs": [],
      "source": [
        "pd.DataFrame(movies_features.iloc[:, 1])"
      ]
    },
    {
      "cell_type": "code",
      "execution_count": null,
      "metadata": {
        "execution": {
          "iopub.execute_input": "2023-04-10T17:18:24.48473Z",
          "iopub.status.busy": "2023-04-10T17:18:24.483577Z",
          "iopub.status.idle": "2023-04-10T17:18:24.499232Z",
          "shell.execute_reply": "2023-04-10T17:18:24.498383Z",
          "shell.execute_reply.started": "2023-04-10T17:18:24.484636Z"
        },
        "id": "ApA2W3Lvx66y"
      },
      "outputs": [],
      "source": [
        "pd.DataFrame(movies_features.iloc[index, 1:2]).transpose()"
      ]
    },
    {
      "cell_type": "code",
      "execution_count": null,
      "metadata": {
        "execution": {
          "iopub.execute_input": "2023-04-10T17:18:24.501559Z",
          "iopub.status.busy": "2023-04-10T17:18:24.500985Z",
          "iopub.status.idle": "2023-04-10T17:18:24.527939Z",
          "shell.execute_reply": "2023-04-10T17:18:24.526503Z",
          "shell.execute_reply.started": "2023-04-10T17:18:24.50152Z"
        },
        "id": "hW_QhW2zx66y"
      },
      "outputs": [],
      "source": [
        "# Test recs on \"Toy Story (1995)\" :\n",
        "index = find_idx_by_title(\"Toy Story (1995)\")\n",
        "\n",
        "recommend_movies(index, pd.DataFrame(movies_features.iloc[index, 1:2]).transpose(), model_1)"
      ]
    },
    {
      "cell_type": "markdown",
      "metadata": {
        "id": "aAgZWr2Ix66y"
      },
      "source": [
        "# Content based filtering, with Features = genres + release year"
      ]
    },
    {
      "cell_type": "code",
      "execution_count": null,
      "metadata": {
        "execution": {
          "iopub.execute_input": "2023-04-10T17:23:25.299599Z",
          "iopub.status.busy": "2023-04-10T17:23:25.298725Z",
          "iopub.status.idle": "2023-04-10T17:23:25.306818Z",
          "shell.execute_reply": "2023-04-10T17:23:25.305456Z",
          "shell.execute_reply.started": "2023-04-10T17:23:25.299518Z"
        },
        "id": "WI67Xj2Bx66y"
      },
      "outputs": [],
      "source": [
        "# Cosine sim\n",
        "def compute_genre_similarity(movie1, movie2):\n",
        "    genres1 = movie1[1:]\n",
        "    genres2 = movie2[1:]\n",
        "#     sumxx, sumxy, sumyy = 0, 0, 0\n",
        "#     for i in range(len(genres1)):\n",
        "#         x = genres1[i]\n",
        "#         y = genres2[i]\n",
        "#         sumxx += x * x\n",
        "#         sumyy += y * y\n",
        "#         sumxy += x * y\n",
        "\n",
        "    #return (1 - sumxy/math.sqrt(sumxx*sumyy))\n",
        "\n",
        "    return sklearn.metrics.pairwise.cosine_distances(genres1.reshape(1, -1), genres2.reshape(1, -1))"
      ]
    },
    {
      "cell_type": "code",
      "execution_count": null,
      "metadata": {
        "execution": {
          "iopub.execute_input": "2023-04-10T17:18:24.540078Z",
          "iopub.status.busy": "2023-04-10T17:18:24.539166Z",
          "iopub.status.idle": "2023-04-10T17:18:24.552617Z",
          "shell.execute_reply": "2023-04-10T17:18:24.551405Z",
          "shell.execute_reply.started": "2023-04-10T17:18:24.540022Z"
        },
        "id": "aPKemeGkx66z"
      },
      "outputs": [],
      "source": [
        "# exponential decay similarity score\n",
        "def compute_year_similarity(x1, x2):\n",
        "    diff = abs(x1[0] - x2[0])\n",
        "    sim = math.exp(-diff / 10.0)\n",
        "    #print(sklearn.metrics.pairwise.euclidean_distances(x1[0].reshape(1, -1), x2[0].reshape(1, -1)))\n",
        "    #print(1 - sim)\n",
        "    return (1 - sim)"
      ]
    },
    {
      "cell_type": "markdown",
      "metadata": {
        "id": "moFfpNIhx66z"
      },
      "source": [
        "The next function can be a good starting point to compute similarity between two movies based on genres and release year. However, it depends on the specific use case and the weight given to each similarity measure.\n",
        "\n",
        "\n",
        "Adding these scores together assumes that they have equal weight in determining the overall similarity between two movies. This may not be appropriate in all cases, as the importance of genres and release years in determining similarity can vary depending on the context.\n",
        "\n",
        "Multiplying them means that the final similarity score will be affected by the difference in magnitude between the genre similarity score and the year similarity score."
      ]
    },
    {
      "cell_type": "code",
      "execution_count": null,
      "metadata": {
        "execution": {
          "iopub.execute_input": "2023-04-10T17:18:24.555411Z",
          "iopub.status.busy": "2023-04-10T17:18:24.554613Z",
          "iopub.status.idle": "2023-04-10T17:18:24.564192Z",
          "shell.execute_reply": "2023-04-10T17:18:24.562761Z",
          "shell.execute_reply.started": "2023-04-10T17:18:24.555357Z"
        },
        "id": "lVHg9g4Ox66z"
      },
      "outputs": [],
      "source": [
        "def compute_distance(x1, x2):\n",
        "    genre_similarity= compute_genre_similarity(x1, x2)\n",
        "    year_similarity= compute_year_similarity(x1, x2)\n",
        "\n",
        "    #return year_similarity + genre_similarity\n",
        "    #return year_similarity * genre_similarity\n",
        "    return (year_similarity*0.2 + genre_similarity*0.8)\n"
      ]
    },
    {
      "cell_type": "code",
      "execution_count": null,
      "metadata": {
        "execution": {
          "iopub.execute_input": "2023-04-10T17:18:24.566569Z",
          "iopub.status.busy": "2023-04-10T17:18:24.565892Z",
          "iopub.status.idle": "2023-04-10T17:18:24.592062Z",
          "shell.execute_reply": "2023-04-10T17:18:24.590618Z",
          "shell.execute_reply.started": "2023-04-10T17:18:24.566514Z"
        },
        "id": "ZjzeOyGPx66z"
      },
      "outputs": [],
      "source": [
        "movies_features.head()"
      ]
    },
    {
      "cell_type": "code",
      "execution_count": null,
      "metadata": {
        "execution": {
          "iopub.execute_input": "2023-04-10T17:18:24.594215Z",
          "iopub.status.busy": "2023-04-10T17:18:24.593746Z",
          "iopub.status.idle": "2023-04-10T17:18:24.631282Z",
          "shell.execute_reply": "2023-04-10T17:18:24.630084Z",
          "shell.execute_reply.started": "2023-04-10T17:18:24.594174Z"
        },
        "id": "T4PpaXdZx66z"
      },
      "outputs": [],
      "source": [
        "pd.DataFrame(movies_features.iloc[:, 1:])"
      ]
    },
    {
      "cell_type": "code",
      "execution_count": null,
      "metadata": {
        "execution": {
          "iopub.execute_input": "2023-04-10T17:23:31.1722Z",
          "iopub.status.busy": "2023-04-10T17:23:31.17169Z",
          "iopub.status.idle": "2023-04-10T17:23:31.230433Z",
          "shell.execute_reply": "2023-04-10T17:23:31.229282Z",
          "shell.execute_reply.started": "2023-04-10T17:23:31.172156Z"
        },
        "id": "zv6dxrS5x660"
      },
      "outputs": [],
      "source": [
        "nn = NearestNeighbors(n_neighbors=10, metric=compute_distance)\n",
        "nn.fit(pd.DataFrame(movies_features.iloc[:, 1:]))"
      ]
    },
    {
      "cell_type": "code",
      "execution_count": null,
      "metadata": {
        "execution": {
          "iopub.execute_input": "2023-04-10T17:23:33.837642Z",
          "iopub.status.busy": "2023-04-10T17:23:33.837211Z",
          "iopub.status.idle": "2023-04-10T17:23:40.641231Z",
          "shell.execute_reply": "2023-04-10T17:23:40.640154Z",
          "shell.execute_reply.started": "2023-04-10T17:23:33.837606Z"
        },
        "id": "xMLp9qSrx660"
      },
      "outputs": [],
      "source": [
        "# Test recs on \"Toy Story (1995)\" :\n",
        "index = find_idx_by_title(\"Toy Story (1995)\")\n",
        "\n",
        "recommend_movies(index, pd.DataFrame(movies_features.iloc[index, 1:]).transpose(), nn)"
      ]
    },
    {
      "cell_type": "markdown",
      "metadata": {
        "id": "bH7fJIaVx660"
      },
      "source": [
        "The movies recommended are pretty similar to the input movie, in terms of genres and release decade (year)."
      ]
    },
    {
      "cell_type": "markdown",
      "metadata": {
        "id": "SJg7DIyhx661"
      },
      "source": [
        "# Recommend movies for user"
      ]
    },
    {
      "cell_type": "code",
      "execution_count": null,
      "metadata": {
        "execution": {
          "iopub.execute_input": "2023-04-10T17:18:31.526152Z",
          "iopub.status.busy": "2023-04-10T17:18:31.525762Z",
          "iopub.status.idle": "2023-04-10T17:18:31.531595Z",
          "shell.execute_reply": "2023-04-10T17:18:31.530364Z",
          "shell.execute_reply.started": "2023-04-10T17:18:31.526117Z"
        },
        "id": "_ERvlM7ux661"
      },
      "outputs": [],
      "source": [
        "user_id = 6526"
      ]
    },
    {
      "cell_type": "code",
      "execution_count": null,
      "metadata": {
        "execution": {
          "iopub.execute_input": "2023-04-10T17:18:31.533785Z",
          "iopub.status.busy": "2023-04-10T17:18:31.533253Z",
          "iopub.status.idle": "2023-04-10T17:18:31.824294Z",
          "shell.execute_reply": "2023-04-10T17:18:31.823026Z",
          "shell.execute_reply.started": "2023-04-10T17:18:31.533747Z"
        },
        "id": "Q86LmseTx661"
      },
      "outputs": [],
      "source": [
        "print(ratings['userId'].value_counts())"
      ]
    },
    {
      "cell_type": "code",
      "execution_count": null,
      "metadata": {
        "execution": {
          "iopub.execute_input": "2023-04-10T17:18:31.826516Z",
          "iopub.status.busy": "2023-04-10T17:18:31.826006Z",
          "iopub.status.idle": "2023-04-10T17:18:31.833343Z",
          "shell.execute_reply": "2023-04-10T17:18:31.832063Z",
          "shell.execute_reply.started": "2023-04-10T17:18:31.826467Z"
        },
        "id": "U7ni9qXPx661"
      },
      "outputs": [],
      "source": [
        "def get_ratings_per_user (user_id):\n",
        "    # Get all rows corresponding to the user_id\n",
        "    user_ratings = ratings[ratings['userId'] == user_id]\n",
        "\n",
        "    # Drop userId col\n",
        "    user_ratings = user_ratings.drop(['userId'], axis=1)\n",
        "\n",
        "    return user_ratings"
      ]
    },
    {
      "cell_type": "code",
      "execution_count": null,
      "metadata": {
        "execution": {
          "iopub.execute_input": "2023-04-10T17:18:31.835188Z",
          "iopub.status.busy": "2023-04-10T17:18:31.834667Z",
          "iopub.status.idle": "2023-04-10T17:18:31.863855Z",
          "shell.execute_reply": "2023-04-10T17:18:31.862533Z",
          "shell.execute_reply.started": "2023-04-10T17:18:31.835003Z"
        },
        "id": "97N4kJLox662"
      },
      "outputs": [],
      "source": [
        "ratings_per_user = get_ratings_per_user(user_id)"
      ]
    },
    {
      "cell_type": "code",
      "execution_count": null,
      "metadata": {
        "execution": {
          "iopub.execute_input": "2023-04-10T17:18:31.866477Z",
          "iopub.status.busy": "2023-04-10T17:18:31.866062Z",
          "iopub.status.idle": "2023-04-10T17:18:31.879916Z",
          "shell.execute_reply": "2023-04-10T17:18:31.8786Z",
          "shell.execute_reply.started": "2023-04-10T17:18:31.866442Z"
        },
        "id": "9849rSJAx662"
      },
      "outputs": [],
      "source": [
        "ratings_per_user"
      ]
    },
    {
      "cell_type": "code",
      "execution_count": null,
      "metadata": {
        "execution": {
          "iopub.execute_input": "2023-04-10T17:25:36.477593Z",
          "iopub.status.busy": "2023-04-10T17:25:36.477045Z",
          "iopub.status.idle": "2023-04-10T17:25:36.499478Z",
          "shell.execute_reply": "2023-04-10T17:25:36.498135Z",
          "shell.execute_reply.started": "2023-04-10T17:25:36.47753Z"
        },
        "id": "FZCnJ3Qux662"
      },
      "outputs": [],
      "source": [
        "rated_movies = pd.merge(ratings_per_user, movies, on='movieId')"
      ]
    },
    {
      "cell_type": "code",
      "execution_count": null,
      "metadata": {
        "execution": {
          "iopub.execute_input": "2023-04-10T17:25:41.146406Z",
          "iopub.status.busy": "2023-04-10T17:25:41.145972Z",
          "iopub.status.idle": "2023-04-10T17:25:41.163798Z",
          "shell.execute_reply": "2023-04-10T17:25:41.162354Z",
          "shell.execute_reply.started": "2023-04-10T17:25:41.146368Z"
        },
        "id": "X26dIcZtx662"
      },
      "outputs": [],
      "source": [
        "rated_movies"
      ]
    },
    {
      "cell_type": "markdown",
      "metadata": {
        "id": "x-dOWXg6x662"
      },
      "source": [
        "Looks like this user likes a lot of genres, but it is clear that he hates horror movies 👻."
      ]
    },
    {
      "cell_type": "code",
      "execution_count": null,
      "metadata": {
        "execution": {
          "iopub.execute_input": "2023-04-10T18:25:23.654279Z",
          "iopub.status.busy": "2023-04-10T18:25:23.65368Z",
          "iopub.status.idle": "2023-04-10T18:25:23.660681Z",
          "shell.execute_reply": "2023-04-10T18:25:23.659292Z",
          "shell.execute_reply.started": "2023-04-10T18:25:23.654226Z"
        },
        "id": "ZOYEe9zBx663"
      },
      "outputs": [],
      "source": [
        "def find_index_by_id(movie_id):\n",
        "    idx = movies[movies['movieId'] == movie_id].index\n",
        "    return idx[0]"
      ]
    },
    {
      "cell_type": "code",
      "execution_count": null,
      "metadata": {
        "execution": {
          "iopub.execute_input": "2023-04-10T18:25:32.970593Z",
          "iopub.status.busy": "2023-04-10T18:25:32.969938Z",
          "iopub.status.idle": "2023-04-10T18:27:49.733887Z",
          "shell.execute_reply": "2023-04-10T18:27:49.732585Z",
          "shell.execute_reply.started": "2023-04-10T18:25:32.970537Z"
        },
        "id": "2lnTjQAGx663"
      },
      "outputs": [],
      "source": [
        "recs = pd.DataFrame()\n",
        "for index, row in ratings_per_user.iterrows():\n",
        "    movie_id = int(row['movieId'])\n",
        "    rating = row['rating']\n",
        "    features = pd.DataFrame(movies_features.iloc[find_index_by_id(movie_id), 1:]).transpose()\n",
        "    recs_by_movie = recommend_movies(movie_id, features, nn)\n",
        "    # Multiplying by (1/rating), so that movies similar to those high rated get more chance\n",
        "    # to appear in the top n list.\n",
        "    # Adding 1 to avoid 0 values (0*1 = 0*5: ratings make no difference in this case)\n",
        "    # The smaller relevance is, the better recommendation is\n",
        "    recs_by_movie['relevance'] = (1+recs_by_movie['distance'])*(1/rating)\n",
        "    recs = pd.concat([recs, recs_by_movie], ignore_index=True)"
      ]
    },
    {
      "cell_type": "code",
      "execution_count": null,
      "metadata": {
        "execution": {
          "iopub.execute_input": "2023-04-10T18:27:49.736651Z",
          "iopub.status.busy": "2023-04-10T18:27:49.735935Z",
          "iopub.status.idle": "2023-04-10T18:27:49.756168Z",
          "shell.execute_reply": "2023-04-10T18:27:49.754781Z",
          "shell.execute_reply.started": "2023-04-10T18:27:49.736612Z"
        },
        "id": "ej6_yRWNx663"
      },
      "outputs": [],
      "source": [
        "recs"
      ]
    },
    {
      "cell_type": "code",
      "execution_count": null,
      "metadata": {
        "execution": {
          "iopub.execute_input": "2023-04-10T18:39:00.044945Z",
          "iopub.status.busy": "2023-04-10T18:39:00.042737Z",
          "iopub.status.idle": "2023-04-10T18:39:00.05563Z",
          "shell.execute_reply": "2023-04-10T18:39:00.054333Z",
          "shell.execute_reply.started": "2023-04-10T18:39:00.044892Z"
        },
        "id": "rMpoFe7zx663"
      },
      "outputs": [],
      "source": [
        "bottom_20 = recs.nlargest(20, 'relevance')"
      ]
    },
    {
      "cell_type": "code",
      "execution_count": null,
      "metadata": {
        "execution": {
          "iopub.execute_input": "2023-04-10T18:39:02.709497Z",
          "iopub.status.busy": "2023-04-10T18:39:02.70846Z",
          "iopub.status.idle": "2023-04-10T18:39:02.735487Z",
          "shell.execute_reply": "2023-04-10T18:39:02.734076Z",
          "shell.execute_reply.started": "2023-04-10T18:39:02.709436Z"
        },
        "id": "8KUgHt7Tx663"
      },
      "outputs": [],
      "source": [
        "bottom_20"
      ]
    },
    {
      "cell_type": "markdown",
      "metadata": {
        "id": "v4YcVH-5x664"
      },
      "source": [
        "Our recommender system is aware that this user hates horror movies"
      ]
    },
    {
      "cell_type": "code",
      "execution_count": null,
      "metadata": {
        "execution": {
          "iopub.execute_input": "2023-04-10T18:27:49.788382Z",
          "iopub.status.busy": "2023-04-10T18:27:49.787282Z",
          "iopub.status.idle": "2023-04-10T18:27:49.799863Z",
          "shell.execute_reply": "2023-04-10T18:27:49.798419Z",
          "shell.execute_reply.started": "2023-04-10T18:27:49.788338Z"
        },
        "id": "oqBu-0qax664"
      },
      "outputs": [],
      "source": [
        "top_10 = recs.nsmallest(10, 'relevance')"
      ]
    },
    {
      "cell_type": "code",
      "execution_count": null,
      "metadata": {
        "execution": {
          "iopub.execute_input": "2023-04-10T18:27:49.801966Z",
          "iopub.status.busy": "2023-04-10T18:27:49.801582Z",
          "iopub.status.idle": "2023-04-10T18:27:49.822232Z",
          "shell.execute_reply": "2023-04-10T18:27:49.820943Z",
          "shell.execute_reply.started": "2023-04-10T18:27:49.80193Z"
        },
        "id": "NahzYN7_x664"
      },
      "outputs": [],
      "source": [
        "top_10"
      ]
    },
    {
      "cell_type": "code",
      "execution_count": null,
      "metadata": {
        "execution": {
          "iopub.execute_input": "2023-04-10T18:39:40.090242Z",
          "iopub.status.busy": "2023-04-10T18:39:40.089807Z",
          "iopub.status.idle": "2023-04-10T18:39:40.098257Z",
          "shell.execute_reply": "2023-04-10T18:39:40.096734Z",
          "shell.execute_reply.started": "2023-04-10T18:39:40.090205Z"
        },
        "id": "pl8U5HUpx664"
      },
      "outputs": [],
      "source": [
        "top_20 = recs.nsmallest(20, 'relevance')"
      ]
    },
    {
      "cell_type": "code",
      "execution_count": null,
      "metadata": {
        "execution": {
          "iopub.execute_input": "2023-04-10T18:39:42.173388Z",
          "iopub.status.busy": "2023-04-10T18:39:42.172896Z",
          "iopub.status.idle": "2023-04-10T18:39:42.191403Z",
          "shell.execute_reply": "2023-04-10T18:39:42.190374Z",
          "shell.execute_reply.started": "2023-04-10T18:39:42.17334Z"
        },
        "id": "fooxpyeGx665"
      },
      "outputs": [],
      "source": [
        "top_20"
      ]
    }
  ],
  "metadata": {
    "kaggle": {
      "accelerator": "none",
      "dataSources": [
        {
          "datasetId": 339,
          "sourceId": 77759,
          "sourceType": "datasetVersion"
        }
      ],
      "dockerImageVersionId": 30458,
      "isGpuEnabled": false,
      "isInternetEnabled": true,
      "language": "python",
      "sourceType": "notebook"
    },
    "kernelspec": {
      "display_name": "Python 3 (ipykernel)",
      "language": "python",
      "name": "python3"
    },
    "language_info": {
      "codemirror_mode": {
        "name": "ipython",
        "version": 3
      },
      "file_extension": ".py",
      "mimetype": "text/x-python",
      "name": "python",
      "nbconvert_exporter": "python",
      "pygments_lexer": "ipython3",
      "version": "3.11.5"
    },
    "colab": {
      "provenance": []
    }
  },
  "nbformat": 4,
  "nbformat_minor": 0
}